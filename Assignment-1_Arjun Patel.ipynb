{
 "cells": [
  {
   "cell_type": "code",
   "execution_count": 3,
   "id": "9b484d0e-76ed-4a4d-8792-d15abaf3469d",
   "metadata": {},
   "outputs": [],
   "source": [
    "\"\"\" Q1: \n",
    "Here's an example of creating a variable for each data type \"\"\"\n",
    "my_string = \"Hello, Multiverse!\"\n",
    "my_list = [1, 3, 5, 3.14, True, \"urban\", 6 + 8j]\n",
    "my_float = 3.14\n",
    "my_tuple = (2, 4, 6, 6.28, False, \"town\", 7 + 5j)"
   ]
  },
  {
   "cell_type": "code",
   "execution_count": 4,
   "id": "00df804d-c264-4392-b1bd-43c7d29a1162",
   "metadata": {},
   "outputs": [],
   "source": [
    "var1 = ''\n",
    "var2 = '[DS, ML, Python]'\n",
    "var3 = ['DS','ML','Python']\n",
    "var4 = 1"
   ]
  },
  {
   "cell_type": "code",
   "execution_count": 9,
   "id": "4b6fa5cd-a16a-46a9-ac06-d51144f0b58b",
   "metadata": {},
   "outputs": [
    {
     "data": {
      "text/plain": [
       "str"
      ]
     },
     "execution_count": 9,
     "metadata": {},
     "output_type": "execute_result"
    }
   ],
   "source": [
    "type(var1) #type function to determine the datatype of var1"
   ]
  },
  {
   "cell_type": "code",
   "execution_count": 10,
   "id": "38af9aa6-1bfb-4862-b26a-c53d70fcd00c",
   "metadata": {},
   "outputs": [
    {
     "data": {
      "text/plain": [
       "str"
      ]
     },
     "execution_count": 10,
     "metadata": {},
     "output_type": "execute_result"
    }
   ],
   "source": [
    "type(var2) #type function to determine the datatype of var2"
   ]
  },
  {
   "cell_type": "code",
   "execution_count": 11,
   "id": "eecc98f7-a521-4458-90d6-e817a1c8fa87",
   "metadata": {},
   "outputs": [
    {
     "data": {
      "text/plain": [
       "list"
      ]
     },
     "execution_count": 11,
     "metadata": {},
     "output_type": "execute_result"
    }
   ],
   "source": [
    "type(var3) #type function to determine the datatype of var3"
   ]
  },
  {
   "cell_type": "code",
   "execution_count": 12,
   "id": "bc0e349c-51e7-4eed-8165-bfa756f88c1f",
   "metadata": {},
   "outputs": [
    {
     "data": {
      "text/plain": [
       "int"
      ]
     },
     "execution_count": 12,
     "metadata": {},
     "output_type": "execute_result"
    }
   ],
   "source": [
    "type(var4) #type function to determine the datatype of var4"
   ]
  },
  {
   "cell_type": "code",
   "execution_count": 14,
   "id": "c36f0987-b854-44a5-a345-1b561ece8a0d",
   "metadata": {},
   "outputs": [
    {
     "name": "stdout",
     "output_type": "stream",
     "text": [
      "6.666666666666667\n"
     ]
    }
   ],
   "source": [
    "print (20/3) #an example of division operator"
   ]
  },
  {
   "cell_type": "code",
   "execution_count": 15,
   "id": "c635e61f-f275-4db5-9d29-7a767a17d834",
   "metadata": {},
   "outputs": [
    {
     "name": "stdout",
     "output_type": "stream",
     "text": [
      "2\n"
     ]
    }
   ],
   "source": [
    "print (20%3) #an example of reminder operator"
   ]
  },
  {
   "cell_type": "code",
   "execution_count": 16,
   "id": "c3ae6656-b858-41ff-9a20-f44787e94e3c",
   "metadata": {},
   "outputs": [
    {
     "name": "stdout",
     "output_type": "stream",
     "text": [
      "6\n"
     ]
    }
   ],
   "source": [
    "print(20//3) #an example of floor division"
   ]
  },
  {
   "cell_type": "code",
   "execution_count": 17,
   "id": "99c9a2e1-23f2-474f-b3ad-29e95a7adf27",
   "metadata": {},
   "outputs": [
    {
     "name": "stdout",
     "output_type": "stream",
     "text": [
      "8000\n"
     ]
    }
   ],
   "source": [
    "print(20**3) #an example of power operator"
   ]
  },
  {
   "cell_type": "code",
   "execution_count": 20,
   "id": "3584c13f-ba8c-42f9-8e71-5cdfbab93ee9",
   "metadata": {},
   "outputs": [
    {
     "name": "stdout",
     "output_type": "stream",
     "text": [
      "apple <class 'str'>\n",
      "3.14 <class 'float'>\n",
      "42 <class 'int'>\n",
      "True <class 'bool'>\n",
      "[1, 2, 3] <class 'list'>\n",
      "{'name': 'Anviksha', 'age': 88} <class 'dict'>\n",
      "('a', 'b', 'c') <class 'tuple'>\n",
      "None <class 'NoneType'>\n",
      "banana <class 'str'>\n",
      "99.9 <class 'float'>\n"
     ]
    }
   ],
   "source": [
    "\"\"\" Answer to question 4 is as follows. It entails a list containing 10 multiple types of data. \n",
    "The following logic implements 'for loop' to print the element and its data type.\"\"\"\n",
    "my_list1 = [\"apple\", 3.14, 42, True, [1, 2, 3], {\"name\": \"Anviksha\", \"age\": 88}, (\"a\", \"b\", \"c\"), None, \"banana\", 99.9]\n",
    "for i in my_list1 :\n",
    "    print(i, type(i))"
   ]
  },
  {
   "cell_type": "code",
   "execution_count": 51,
   "id": "2d179da8-59eb-4b58-831c-211c33bf134e",
   "metadata": {},
   "outputs": [
    {
     "name": "stdout",
     "output_type": "stream",
     "text": [
      "72 is purely divisible by 3 2 times.\n"
     ]
    }
   ],
   "source": [
    "\"\"\" Question 5 logic implementation is as follows.\"\"\"\n",
    "A = 72 #random integer stored in variable A\n",
    "B = 3   #random integer stored in variable B\n",
    "divisions = 0\n",
    "original_A = A\n",
    "while A % B == 0:\n",
    "    A = A // B\n",
    "    divisions += 1\n",
    "    \n",
    "if divisions > 0:\n",
    "    print (f\"{original_A} is purely divisible by {B} {divisions} times.\")\n",
    "else:\n",
    "    print(f\"{original_A} is not purely divisible by {B}.\")"
   ]
  },
  {
   "cell_type": "code",
   "execution_count": 55,
   "id": "776f9880-4905-44fa-80fe-224927b41eb8",
   "metadata": {},
   "outputs": [
    {
     "name": "stdout",
     "output_type": "stream",
     "text": [
      "1 is indivisible by 3\n",
      "2 is indivisible by 3\n",
      "3 is divisible by 3\n",
      "4 is indivisible by 3\n",
      "5 is indivisible by 3\n",
      "6 is divisible by 3\n",
      "7 is indivisible by 3\n",
      "8 is indivisible by 3\n",
      "9 is divisible by 3\n",
      "10 is indivisible by 3\n",
      "11 is indivisible by 3\n",
      "12 is divisible by 3\n",
      "13 is indivisible by 3\n",
      "14 is indivisible by 3\n",
      "15 is divisible by 3\n",
      "16 is indivisible by 3\n",
      "17 is indivisible by 3\n",
      "18 is divisible by 3\n",
      "19 is indivisible by 3\n",
      "20 is indivisible by 3\n",
      "21 is divisible by 3\n",
      "22 is indivisible by 3\n",
      "23 is indivisible by 3\n",
      "24 is divisible by 3\n",
      "25 is indivisible by 3\n"
     ]
    }
   ],
   "source": [
    "\"\"\"Question 6 logic implementation is as follows.\"\"\"\n",
    "my_list2 = [1, 2, 3, 4, 5, 6, 7, 8, 9, 10, 11, 12, 13, 14, 15, 16, 17, 18, 19, 20, 21, 22, 23, 24, 25]\n",
    "for i in my_list2:\n",
    "    if (i % 3 == 0):\n",
    "        print (f\"{i} is divisible by 3\")\n",
    "    else:\n",
    "        print(f\"{i} is indivisible by 3\")"
   ]
  },
  {
   "cell_type": "code",
   "execution_count": 58,
   "id": "a44b9fb4-1583-4159-a109-866744a1571c",
   "metadata": {},
   "outputs": [],
   "source": [
    "\"\"\"Question 7\"\"\"\n",
    "my_list3 = [\"orange\", 2, 3.14, True, 8 + 5j]\n",
    "my_list3[2] = False #modifying the particular index for a list datatype suggests its mutability."
   ]
  },
  {
   "cell_type": "code",
   "execution_count": 57,
   "id": "cdc661ac-9559-4102-b40c-8109ce878830",
   "metadata": {},
   "outputs": [
    {
     "data": {
      "text/plain": [
       "['orange', 2, False, True, (8+5j)]"
      ]
     },
     "execution_count": 57,
     "metadata": {},
     "output_type": "execute_result"
    }
   ],
   "source": [
    "my_list3"
   ]
  },
  {
   "cell_type": "code",
   "execution_count": 59,
   "id": "147f96ba-fb7e-4a81-9e47-60be3cb18f25",
   "metadata": {},
   "outputs": [
    {
     "ename": "TypeError",
     "evalue": "'str' object does not support item assignment",
     "output_type": "error",
     "traceback": [
      "\u001b[0;31m---------------------------------------------------------------------------\u001b[0m",
      "\u001b[0;31mTypeError\u001b[0m                                 Traceback (most recent call last)",
      "Cell \u001b[0;32mIn[59], line 2\u001b[0m\n\u001b[1;32m      1\u001b[0m z \u001b[38;5;241m=\u001b[39m \u001b[38;5;124m\"\u001b[39m\u001b[38;5;124mPythagoras\u001b[39m\u001b[38;5;124m\"\u001b[39m\n\u001b[0;32m----> 2\u001b[0m \u001b[43mz\u001b[49m\u001b[43m[\u001b[49m\u001b[38;5;241;43m2\u001b[39;49m\u001b[43m]\u001b[49m \u001b[38;5;241m=\u001b[39m \u001b[38;5;124m'\u001b[39m\u001b[38;5;124mb\u001b[39m\u001b[38;5;124m'\u001b[39m\n",
      "\u001b[0;31mTypeError\u001b[0m: 'str' object does not support item assignment"
     ]
    }
   ],
   "source": [
    "z = \"Pythagoras\"\n",
    "z[2] = 'b' #an attempt to change the 3rd index of a string datatype (i.e 't') is unsuccessful and consequently it can be inferred that string is immutable."
   ]
  },
  {
   "cell_type": "code",
   "execution_count": null,
   "id": "ed89aa65-bdcf-49d6-b3fd-e230ec42f63a",
   "metadata": {},
   "outputs": [],
   "source": []
  }
 ],
 "metadata": {
  "kernelspec": {
   "display_name": "Python 3 (ipykernel)",
   "language": "python",
   "name": "python3"
  },
  "language_info": {
   "codemirror_mode": {
    "name": "ipython",
    "version": 3
   },
   "file_extension": ".py",
   "mimetype": "text/x-python",
   "name": "python",
   "nbconvert_exporter": "python",
   "pygments_lexer": "ipython3",
   "version": "3.10.8"
  }
 },
 "nbformat": 4,
 "nbformat_minor": 5
}
